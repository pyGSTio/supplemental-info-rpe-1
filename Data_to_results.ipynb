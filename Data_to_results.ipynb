{
 "cells": [
  {
   "cell_type": "code",
   "execution_count": 1,
   "metadata": {},
   "outputs": [],
   "source": [
    "#In this notebook we analyze both the full N=370 RPE and GST datasets,\n",
    "#computing estimates of the rotation angles, as well as the GST \n",
    "#confidence intervals"
   ]
  },
  {
   "cell_type": "code",
   "execution_count": 2,
   "metadata": {},
   "outputs": [
    {
     "name": "stdout",
     "output_type": "stream",
     "text": [
      "Fully specified RPE configuration.\n"
     ]
    }
   ],
   "source": [
    "#Import relevant namespaces.\n",
    "import pygsti as gst\n",
    "import numpy as np\n",
    "import pygsti.construction.std1Q_XY as Std1Q_XY\n",
    "from pygsti.extras import rpe as RPE\n",
    "from pygsti.extras.rpe import rpeconstruction as RPEConstr\n",
    "from pygsti.extras.rpe.rpeconfig_GxPi2_GyPi2_UpDn import rpeconfig_GxPi2_GyPi2_UpDn"
   ]
  },
  {
   "cell_type": "code",
   "execution_count": 3,
   "metadata": {},
   "outputs": [],
   "source": [
    "#Declare the particular RPE instance we are interested in\n",
    "#(X and Y pi/2 rotations)\n",
    "rpeconfig_inst = rpeconfig_GxPi2_GyPi2_UpDn"
   ]
  },
  {
   "cell_type": "code",
   "execution_count": 4,
   "metadata": {},
   "outputs": [],
   "source": [
    "#Declare a variety of relevant parameters\n",
    "\n",
    "gs_target = Std1Q_XY.gs_target\n",
    "gs_target.set_all_parameterizations('TP')\n",
    "maxLengths_1024 = [0,1,2,4,8,16,32,64,128,256,512,1024]\n",
    "fiducials = Std1Q_XY.fiducials\n",
    "#measFiducials = Std1Q_XY.fiducials\n",
    "germs = gst.construction.gatestring_list([('Gy',),\n",
    " ('Gy','Gy','Gy','Gx',),\n",
    " ('Gy','Gx','Gy','Gx','Gx','Gx',),\n",
    " ('Gy','Gx','Gy','Gy','Gx','Gx',),\n",
    " ('Gy','Gy','Gy','Gx','Gy','Gx',),\n",
    " ('Gx',),\n",
    " ('Gx','Gy',),\n",
    " ('Gx','Gx','Gy','Gx','Gy','Gy',)])\n",
    "stringListsGST = gst.construction.make_lsgst_lists(gs_target.gates.keys(), fiducials, fiducials, germs, maxLengths_1024)\n",
    "\n",
    "stringListsRPE = RPEConstr.make_rpe_angle_string_list_dict(10,rpeconfig_inst)\n",
    "\n",
    "angleList = ['alpha','epsilon','theta']\n",
    "\n",
    "#NList = [8,16,32,64,128,256]\n",
    "\n",
    "numKs = len(maxLengths_1024[1:])\n",
    "numKs_w_0 = len(maxLengths_1024)\n",
    "\n",
    "numStrsD = {}\n",
    "numStrsD['RPE'] = [6*i for i in np.arange(1,12)]\n",
    "numStrsD['GST'] = [len(stringList) for stringList in stringListsGST][1:]"
   ]
  },
  {
   "cell_type": "code",
   "execution_count": 5,
   "metadata": {},
   "outputs": [
    {
     "name": "stdout",
     "output_type": "stream",
     "text": [
      "Loading from cache file: GST_dataset.txt.cache\n",
      "Loading from cache file: RPE_dataset.txt.cache\n"
     ]
    }
   ],
   "source": [
    "#Load the experimental datasets.\n",
    "DSGST = gst.io.load_dataset('GST_dataset.txt',cache=True)\n",
    "DSRPE = gst.io.load_dataset('RPE_dataset.txt',cache=True)"
   ]
  },
  {
   "cell_type": "code",
   "execution_count": 6,
   "metadata": {},
   "outputs": [],
   "source": [
    "#Create empty dictionaries and arrays to hold various results.\n",
    "gsEstD = {}\n",
    "resultsD = {}\n",
    "trueD = {}\n",
    "\n",
    "trials = 1\n",
    "\n",
    "for method in ['RPE','GST']:\n",
    "    for angle in angleList:\n",
    "        resultsArray = np.zeros([numKs,trials,3],float)\n",
    "        resultsD[(angle,method,'Exp. N=370')] = resultsArray.copy()"
   ]
  },
  {
   "cell_type": "code",
   "execution_count": 7,
   "metadata": {},
   "outputs": [
    {
     "name": "stderr",
     "output_type": "stream",
     "text": [
      "/Users/kmrudin/venv-rpe2017-2/pyGSTi/packages/pygsti/objects/evaltree.py:270: FutureWarning: Using a non-tuple sequence for multidimensional indexing is deprecated; use `arr[tuple(seq)]` instead of `arr[seq]`. In the future this will be interpreted as an array index, `arr[np.array(seq)]`, which will result either in an error or a different result.\n",
      "  ret = a[sl]\n"
     ]
    }
   ],
   "source": [
    "#Run GST on full experimental dataset; record final angle estimates.\n",
    "#This should run in a minute or less.\n",
    "method = 'GST'\n",
    "\n",
    "baseKey =  ('Exp. N=370',)\n",
    "\n",
    "DSTemp = DSGST\n",
    "\n",
    "resultsGST = gst.do_long_sequence_gst(DSTemp,gs_target,fiducials,fiducials,germs,maxLengths_1024,verbosity=0, gaugeOptParams = {'itemWeights': {'gates':1.0, 'spam':1e-4}})\n",
    "\n",
    "#resultsGST = Analyze.doMLEAnalysis(DSTemp,gs_target,prepFiducials,measFiducials,germs,maxLengths_1024,constrainToTP=True,advancedOptions={'verbosity':0})\n",
    "gsEstD[baseKey] = resultsGST.gatesets\n",
    "\n",
    "alphaKey = ('alpha','GST')+baseKey\n",
    "epsilonKey = ('epsilon','GST')+baseKey\n",
    "thetaKey = ('theta','GST')+baseKey\n",
    "\n",
    "resultsArray = np.zeros([numKs_w_0,1,3],float)\n",
    "\n",
    "for angle in angleList:\n",
    "    key = (angle,'GST')+baseKey\n",
    "    resultsD[key] = resultsArray.copy()\n",
    "\n",
    "for kInd, k in enumerate(maxLengths_1024):\n",
    "    gs = gsEstD[baseKey]['iteration estimates'][kInd]#gst.optimize_gauge(gsEstD[baseKey][kInd],'target',targetGateset=gs_target,constrainToTP=True,spamWeight=1e-4)\n",
    "    resultsD[alphaKey][kInd,0,0] = RPE.extract_alpha(gs,rpeconfig_inst)\n",
    "    resultsD[epsilonKey][kInd,0,0] = RPE.extract_epsilon(gs,rpeconfig_inst)\n",
    "    resultsD[thetaKey][kInd,0,0] = RPE.extract_theta(gs,rpeconfig_inst)\n",
    "    \n",
    "for angle in angleList:\n",
    "    trueD[angle] = resultsD[(angle,'GST',)+baseKey][-1,0,0]"
   ]
  },
  {
   "cell_type": "code",
   "execution_count": 8,
   "metadata": {},
   "outputs": [
    {
     "name": "stdout",
     "output_type": "stream",
     "text": [
      "    \n",
      "--- Hessian Projector Optimization for gate CIs (L-BFGS-B) ---\n",
      "    5s           0.0006783277\n",
      "    8s           0.0004575925\n",
      "   11s           0.0002917118\n",
      "   17s           0.0002753231\n",
      "   22s           0.0002659712\n",
      "   25s           0.0002573177\n",
      "   28s           0.0002209138\n",
      "   34s           0.0002131582\n",
      "   37s           0.0002014232\n",
      "   45s           0.0002007645\n",
      "  The resulting min sqrt(sum(gateCIs**2)): 0.000200765\n"
     ]
    }
   ],
   "source": [
    "#Compute error bars on GST angle estimates.\n",
    "#This should run in a minute or less.\n",
    "resultsGST.confidence_level = 95\n",
    "resultsGSTanglesTable = resultsGST.tables['bestGatesetRotnAxisTable']"
   ]
  },
  {
   "cell_type": "code",
   "execution_count": 9,
   "metadata": {},
   "outputs": [
    {
     "name": "stdout",
     "output_type": "stream",
     "text": [
      "GST full N=370 angle estimates\n",
      "alpha - pi/2 = 6.395737536846191e-05 +/- 4.892250757323836e-05\n",
      "epsilon - pi/2 = 2.733845219138331e-05 +/- 3.535978697937691e-05\n"
     ]
    }
   ],
   "source": [
    "#Report GST estimates with 95% CIs.\n",
    "\n",
    "print (\"GST full N=370 angle estimates\")\n",
    "for angle, axis in [('alpha','Gx'),('epsilon','Gy')]:\n",
    "    print (angle, \"- pi/2 =\", trueD[angle] - np.pi/2, '+/-', np.pi*resultsGSTanglesTable[axis]['Angle'][1])"
   ]
  },
  {
   "cell_type": "code",
   "execution_count": 10,
   "metadata": {},
   "outputs": [],
   "source": [
    "#Encode above GST angle estimates into a \"target gateset\" to compare RPE results against.\n",
    "gs_best_truth = RPEConstr.make_parameterized_rpe_gate_set(trueD['alpha'],trueD['epsilon'],trueD['theta'],0,rpeconfig_inst=rpeconfig_inst)"
   ]
  },
  {
   "cell_type": "code",
   "execution_count": 11,
   "metadata": {},
   "outputs": [],
   "source": [
    "resultsRPE = RPE.analyze_rpe_data(DSRPE,gs_best_truth,stringListsRPE,rpeconfig_inst)\n",
    "for angle in angleList:\n",
    "    resultsD[(angle,'RPE','Exp. N=370')][:,0:1,0] = np.array([resultsRPE[angle+'ErrorList']]).T.copy()"
   ]
  },
  {
   "cell_type": "code",
   "execution_count": 12,
   "metadata": {},
   "outputs": [
    {
     "name": "stdout",
     "output_type": "stream",
     "text": [
      "RPE full N=370 angle estimates\n",
      "alpha - pi/2 = 0.00010235960738191885\n",
      "epsilon - pi/2 = 9.932418174574131e-05\n",
      "RMSE upper bound = pi/(2*L_max) = 0.0015339807878856412\n"
     ]
    }
   ],
   "source": [
    "#Report RPE estimates along root mean squared error upper bound.\n",
    "print (\"RPE full N=370 angle estimates\")\n",
    "for angle in ['alpha','epsilon']:\n",
    "    print (angle, '- pi/2 =', resultsD[(angle,'RPE','Exp. N=370')][-1,0,0])\n",
    "print (\"RMSE upper bound = pi/(2*L_max) =\", np.pi/(2*1024))"
   ]
  },
  {
   "cell_type": "code",
   "execution_count": 13,
   "metadata": {},
   "outputs": [
    {
     "name": "stdout",
     "output_type": "stream",
     "text": [
      "GST full N=370 angle estimates\n",
      "alpha - pi/2 = 6.395737536846191e-05 +/- 4.892250757323836e-05\n",
      "epsilon - pi/2 = 2.733845219138331e-05 +/- 3.535978697937691e-05\n"
     ]
    }
   ],
   "source": [
    "#Report GST estimates with 95% CIs.\n",
    "for angle in angleList:\n",
    "    trueD[angle] = resultsD[(angle,'GST','Exp. N=370')][-1,0,0]\n",
    "\n",
    "print (\"GST full N=370 angle estimates\")\n",
    "for angle, axis in [('alpha','Gx'),('epsilon','Gy')]:\n",
    "    print (angle, \"- pi/2 =\", trueD[angle] - np.pi/2, '+/-', np.pi*resultsGSTanglesTable[axis]['Angle'][1])"
   ]
  },
  {
   "cell_type": "code",
   "execution_count": null,
   "metadata": {
    "collapsed": true
   },
   "outputs": [],
   "source": []
  }
 ],
 "metadata": {
  "kernelspec": {
   "display_name": "venv-rpe2017-2",
   "language": "python",
   "name": "venv-rpe2017-2"
  },
  "language_info": {
   "codemirror_mode": {
    "name": "ipython",
    "version": 3
   },
   "file_extension": ".py",
   "mimetype": "text/x-python",
   "name": "python",
   "nbconvert_exporter": "python",
   "pygments_lexer": "ipython3",
   "version": "3.6.5"
  }
 },
 "nbformat": 4,
 "nbformat_minor": 1
}

{
 "cells": [
  {
   "cell_type": "code",
   "execution_count": 1,
   "metadata": {
    "collapsed": false
   },
   "outputs": [],
   "source": [
    "#In this notebook we reproduce Figure 5 and S2."
   ]
  },
  {
   "cell_type": "code",
   "execution_count": 1,
   "metadata": {
    "collapsed": false
   },
   "outputs": [
    {
     "name": "stdout",
     "output_type": "stream",
     "text": [
      "Fully specified RPE configuration.\n"
     ]
    }
   ],
   "source": [
    "#Import relevant namespaces.\n",
    "import pygsti as gst\n",
    "import numpy as np\n",
    "import pygsti.construction.std1Q_XY as Std1Q_XY\n",
    "import pickle\n",
    "%matplotlib inline\n",
    "import matplotlib.pyplot as plt\n",
    "from pygsti.extras import rpe as RPE\n",
    "from pygsti.extras.rpe.rpeconfig_GxPi2_GyPi2_UpDn import rpeconfig_GxPi2_GyPi2_UpDn\n",
    "from __future__ import print_function"
   ]
  },
  {
   "cell_type": "code",
   "execution_count": 2,
   "metadata": {
    "collapsed": false
   },
   "outputs": [],
   "source": [
    "#Declare the particular RPE instance we are interested in\n",
    "#(X and Y pi/2 rotations)\n",
    "rpeconfig_inst = rpeconfig_GxPi2_GyPi2_UpDn"
   ]
  },
  {
   "cell_type": "code",
   "execution_count": 3,
   "metadata": {
    "collapsed": false
   },
   "outputs": [],
   "source": [
    "#Declare a variety of relevant parameters\n",
    "\n",
    "angleList = ['alpha','epsilon','theta']\n",
    "maxLengths_1024 = [0,1,2,4,8,16,32,64,128,256,512,1024]\n",
    "numKs_w_0 = len(maxLengths_1024)\n",
    "\n",
    "gs_target = Std1Q_XY.gs_target\n",
    "gs_target.set_all_parameterizations('TP')\n",
    "maxLengths_1024 = [0,1,2,4,8,16,32,64,128,256,512,1024]\n",
    "fiducials = Std1Q_XY.fiducials\n",
    "germs = gst.construction.gatestring_list([('Gy',),\n",
    " ('Gy','Gy','Gy','Gx',),\n",
    " ('Gy','Gx','Gy','Gx','Gx','Gx',),\n",
    " ('Gy','Gx','Gy','Gy','Gx','Gx',),\n",
    " ('Gy','Gy','Gy','Gx','Gy','Gx',),\n",
    " ('Gx',),\n",
    " ('Gx','Gy',),\n",
    " ('Gx','Gx','Gy','Gx','Gy','Gy',)])\n",
    "stringListsGST = gst.construction.make_lsgst_lists(gs_target.gates.keys(), fiducials, fiducials, germs, maxLengths_1024)\n",
    "\n",
    "numStrsD = {}\n",
    "numStrsD['RPE'] = [6*i for i in np.arange(1,12)]\n",
    "numStrsD['GST'] = [len(stringList) for stringList in stringListsGST][1:]\n",
    "\n",
    "#numGSTStrs_1024 = numStrsD['GST'][-1]\n",
    "#numRPEStrs_1024 = numStrsD['RPE'][-1]/3\n",
    "#numGSTClicks_1024 = [numGSTStrs_1024*i for i in [8,16,32,64,128,256]]\n",
    "#numRPEClicks_1024 = [numRPEStrs_1024*i for i in [8,16,32,64,128,256]]"
   ]
  },
  {
   "cell_type": "code",
   "execution_count": 4,
   "metadata": {
    "collapsed": false
   },
   "outputs": [
    {
     "name": "stdout",
     "output_type": "stream",
     "text": [
      "Loading from cache file: GST_dataset.txt.cache\n",
      "Loading from cache file: RPE_dataset.txt.cache\n"
     ]
    }
   ],
   "source": [
    "#Load the experimental datasets.\n",
    "DSGST = gst.io.load_dataset('GST_dataset.txt',cache=True)\n",
    "DSRPE = gst.io.load_dataset('RPE_dataset.txt',cache=True)"
   ]
  },
  {
   "cell_type": "code",
   "execution_count": 5,
   "metadata": {
    "collapsed": true
   },
   "outputs": [],
   "source": [
    "#Load subsampled GST and RPE results files.\n",
    "GSTResultsFile = open('GST-Subsampling-Results.pkl','r')\n",
    "resultsGSTD = pickle.load(GSTResultsFile)\n",
    "GSTResultsFile.close()\n",
    "\n",
    "RPEResultsFile = open('RPE-Subsampling-Results.pkl','r')\n",
    "resultsD = pickle.load(RPEResultsFile)\n",
    "RPEResultsFile.close()"
   ]
  },
  {
   "cell_type": "code",
   "execution_count": 6,
   "metadata": {
    "collapsed": true
   },
   "outputs": [],
   "source": [
    "#Create empty dictionaries to hold various results.\n",
    "\n",
    "gsEstD = {}\n",
    "trueD = {}"
   ]
  },
  {
   "cell_type": "code",
   "execution_count": 7,
   "metadata": {
    "collapsed": false
   },
   "outputs": [
    {
     "name": "stdout",
     "output_type": "stream",
     "text": [
      "DEBUG: optimized gate to min frobenius distance 0.000234144\n",
      "DEBUG: optimized gate to min frobenius distance 0.000195541\n",
      "DEBUG: optimized vector to min frobenius distance 0.000107997\n"
     ]
    }
   ],
   "source": [
    "#Run GST on full experimental dataset; record final angle estimates.\n",
    "#This should run in a minute or less.\n",
    "method = 'GST'\n",
    "\n",
    "baseKey =  ('Exp. N=370',)\n",
    "\n",
    "DSTemp = DSGST\n",
    "\n",
    "tempResultsD = {}\n",
    "\n",
    "resultsGST = gst.do_long_sequence_gst(DSTemp,gs_target,fiducials,fiducials,germs,maxLengths_1024,verbosity=0, gaugeOptParams = {'itemWeights': {'gates':1.0, 'spam':1e-4}})\n",
    "\n",
    "gsEstD[baseKey] = resultsGST.gatesets\n",
    "\n",
    "alphaKey = ('alpha','GST')+baseKey\n",
    "epsilonKey = ('epsilon','GST')+baseKey\n",
    "thetaKey = ('theta','GST')+baseKey\n",
    "\n",
    "resultsArray = np.zeros([numKs_w_0,1,3],float)\n",
    "\n",
    "for angle in angleList:\n",
    "    key = (angle,'GST')+baseKey\n",
    "    tempResultsD[key] = resultsArray.copy()\n",
    "\n",
    "for kInd, k in enumerate(maxLengths_1024):\n",
    "    gs = gsEstD[baseKey]['iteration estimates'][kInd]#gst.optimize_gauge(gsEstD[baseKey][kInd],'target',targetGateset=gs_target,constrainToTP=True,spamWeight=1e-4)\n",
    "    tempResultsD[alphaKey][kInd,0,0] = RPE.extract_alpha(gs,rpeconfig_inst)\n",
    "    tempResultsD[epsilonKey][kInd,0,0] = RPE.extract_epsilon(gs,rpeconfig_inst)\n",
    "    tempResultsD[thetaKey][kInd,0,0] = RPE.extract_theta(gs,rpeconfig_inst)\n",
    "    \n",
    "for angle in angleList:\n",
    "    trueD[angle] = tempResultsD[(angle,'GST',)+baseKey][-1,0,0]"
   ]
  },
  {
   "cell_type": "code",
   "execution_count": 8,
   "metadata": {
    "collapsed": false
   },
   "outputs": [
    {
     "data": {
      "image/png": "[encoded data removed]",
      "text/plain": [
       "<matplotlib.figure.Figure at 0x10a5bbd90>"
      ]
     },
     "metadata": {},
     "output_type": "display_data"
    }
   ],
   "source": [
    "#Plot Figure 5.\n",
    "\n",
    "for N in [16]:\n",
    "    for angle in ['alpha']:\n",
    "        method = 'GST'\n",
    "        expKey = ('method',method,'N',N)\n",
    "        RMSdataGSTalpha = np.sqrt(np.mean(np.abs(trueD[angle] - resultsGSTD[(angle,)+expKey][:,:,0])**2,axis=1))\n",
    "        plt.plot(N*np.array(numStrsD['GST']),RMSdataGSTalpha,'o',label='GST RMSE')\n",
    "        method = 'RPE'\n",
    "        expKey = ('method',method,'N',N)\n",
    "        RMSdataRPEalpha = np.sqrt(np.mean(resultsD[(angle,)+expKey][:,:,0]**2,axis=1))\n",
    "        plt.plot(N/3.*np.array(numStrsD['RPE']),RMSdataRPEalpha,'d',label='RPE RMSE')\n",
    "\n",
    "        plt.xlim(.5*N*np.array(numStrsD['RPE'])[0],1.5*N*np.array(numStrsD['GST'])[-1])\n",
    "\n",
    "        plt.ylim(1e-7,2e0)\n",
    "        plt.yscale('log')\n",
    "        plt.xscale('log')\n",
    "        plt.xlabel('Total clicks')\n",
    "        plt.ylabel('Error')\n",
    "        plt.title(r'Error vs. Total Clicks; $N=$'+str(N))\n",
    "        plt.legend(loc='lower left')\n",
    "        plt.tight_layout()\n",
    "        plt.show()"
   ]
  },
  {
   "cell_type": "code",
   "execution_count": 9,
   "metadata": {
    "collapsed": false
   },
   "outputs": [
    {
     "data": {
      "image/png": "[encoded data removed]",
      "text/plain": [
       "<matplotlib.figure.Figure at 0x10bcad510>"
      ]
     },
     "metadata": {},
     "output_type": "display_data"
    }
   ],
   "source": [
    "#Plot Supplemental Information Figure 2.\n",
    "\n",
    "for N in [16]:\n",
    "    for angle in ['epsilon']:\n",
    "        method = 'GST'\n",
    "        expKey = ('method',method,'N',N)\n",
    "        RMSdataGSTepsilon = np.sqrt(np.mean(np.abs(trueD[angle] - resultsGSTD[(angle,)+expKey][:,:,0])**2,axis=1))\n",
    "        plt.plot(N*np.array(numStrsD['GST']),RMSdataGSTepsilon,'o',label='GST RMSE')\n",
    "        method = 'RPE'\n",
    "        expKey = ('method',method,'N',N)\n",
    "        RMSdataRPEepsilon = np.sqrt(np.mean(resultsD[(angle,)+expKey][:,:,0]**2,axis=1))\n",
    "        plt.plot(N/3.*np.array(numStrsD['RPE']),RMSdataRPEepsilon,'d',label='RPE RMSE')\n",
    "\n",
    "        plt.xlim(.5*N*np.array(numStrsD['RPE'])[0],1.5*N*np.array(numStrsD['GST'])[-1])\n",
    "\n",
    "        plt.ylim(1e-7,2e0)\n",
    "        plt.yscale('log')\n",
    "        plt.xscale('log')\n",
    "        plt.xlabel('Total clicks')\n",
    "        plt.ylabel('Error')\n",
    "        plt.title(r'Error vs. Total Clicks; $N=$'+str(N))\n",
    "        plt.legend(loc='lower left')\n",
    "        plt.tight_layout()\n",
    "        plt.show()"
   ]
  },
  {
   "cell_type": "code",
   "execution_count": 10,
   "metadata": {
    "collapsed": true
   },
   "outputs": [],
   "source": [
    "#Now let's print the data plotted above."
   ]
  },
  {
   "cell_type": "code",
   "execution_count": 11,
   "metadata": {
    "collapsed": false
   },
   "outputs": [
    {
     "name": "stdout",
     "output_type": "stream",
     "text": [
      "Total clicks \t RPE alpha RMSE\n",
      "32.0 \t\t 0.215599224273\n",
      "64.0 \t\t 0.12350177335\n",
      "96.0 \t\t 0.0635575060913\n",
      "128.0 \t\t 0.0280204128289\n",
      "160.0 \t\t 0.0143311703483\n",
      "192.0 \t\t 0.00836008590527\n",
      "224.0 \t\t 0.00336304843287\n",
      "256.0 \t\t 0.0020923670161\n",
      "288.0 \t\t 0.000881568411366\n",
      "320.0 \t\t 0.000558595698295\n",
      "352.0 \t\t 0.000257028532063\n"
     ]
    }
   ],
   "source": [
    "N=16\n",
    "print('Total clicks \\t RPE alpha RMSE')\n",
    "for i in xrange(11):\n",
    "    print(N/3.*np.array(numStrsD['RPE'])[i],'\\t\\t',RMSdataRPEalpha[i])"
   ]
  },
  {
   "cell_type": "code",
   "execution_count": 12,
   "metadata": {
    "collapsed": false
   },
   "outputs": [
    {
     "name": "stdout",
     "output_type": "stream",
     "text": [
      "Total clicks \t GST alpha RMSE\n",
      "896 \t\t 0.0377878901891\n",
      "1536 \t\t 0.0377878959434\n",
      "3024 \t\t 0.0255093842244\n",
      "7088 \t\t 0.0159434347895\n",
      "11440 \t\t 0.00939217039868\n",
      "15792 \t\t 0.00580814936587\n",
      "20144 \t\t 0.00294448279745\n",
      "24496 \t\t 0.00175640470504\n",
      "28848 \t\t 0.000828309738621\n",
      "33200 \t\t 0.000441373633933\n",
      "37552 \t\t 0.000224809323604\n"
     ]
    }
   ],
   "source": [
    "N=16\n",
    "print('Total clicks \\t GST alpha RMSE')\n",
    "for i in xrange(11):\n",
    "    print(N*np.array(numStrsD['GST'])[i],'\\t\\t',RMSdataGSTalpha[i])"
   ]
  },
  {
   "cell_type": "code",
   "execution_count": 13,
   "metadata": {
    "collapsed": false
   },
   "outputs": [
    {
     "name": "stdout",
     "output_type": "stream",
     "text": [
      "Total clicks \t RPE epsilon RMSE\n",
      "32.0 \t\t 0.253618685703\n",
      "64.0 \t\t 0.128295155971\n",
      "96.0 \t\t 0.061871000736\n",
      "128.0 \t\t 0.0330666768265\n",
      "160.0 \t\t 0.0136522945144\n",
      "192.0 \t\t 0.007720718018\n",
      "224.0 \t\t 0.00394418786672\n",
      "256.0 \t\t 0.00171344405254\n",
      "288.0 \t\t 0.000979269466937\n",
      "320.0 \t\t 0.000548175270237\n",
      "352.0 \t\t 0.000293763407584\n"
     ]
    }
   ],
   "source": [
    "N=16\n",
    "print('Total clicks \\t RPE epsilon RMSE')\n",
    "for i in xrange(11):\n",
    "    print(N/3.*np.array(numStrsD['RPE'])[i],'\\t\\t',RMSdataRPEepsilon[i])"
   ]
  },
  {
   "cell_type": "code",
   "execution_count": 14,
   "metadata": {
    "collapsed": false
   },
   "outputs": [
    {
     "name": "stdout",
     "output_type": "stream",
     "text": [
      "Total clicks \t GST epsilon RMSE\n",
      "896 \t\t 0.0396958485656\n",
      "1536 \t\t 0.0396957527003\n",
      "3024 \t\t 0.0240713934329\n",
      "7088 \t\t 0.0161585587228\n",
      "11440 \t\t 0.00832310831767\n",
      "15792 \t\t 0.00488422050726\n",
      "20144 \t\t 0.00273848693268\n",
      "24496 \t\t 0.00122060292109\n",
      "28848 \t\t 0.000605109369288\n",
      "33200 \t\t 0.000323582731658\n",
      "37552 \t\t 0.00015360835939\n"
     ]
    }
   ],
   "source": [
    "N=16\n",
    "print('Total clicks \\t GST epsilon RMSE')\n",
    "for i in xrange(11):\n",
    "    print(N*np.array(numStrsD['GST'])[i],'\\t\\t',RMSdataGSTepsilon[i])"
   ]
  },
  {
   "cell_type": "code",
   "execution_count": null,
   "metadata": {
    "collapsed": true
   },
   "outputs": [],
   "source": []
  }
 ],
 "metadata": {
  "kernelspec": {
   "display_name": "Python 2",
   "language": "python",
   "name": "python2"
  },
  "language_info": {
   "codemirror_mode": {
    "name": "ipython",
    "version": 2
   },
   "file_extension": ".py",
   "mimetype": "text/x-python",
   "name": "python",
   "nbconvert_exporter": "python",
   "pygments_lexer": "ipython2",
   "version": "2.7.9"
  }
 },
 "nbformat": 4,
 "nbformat_minor": 0
}

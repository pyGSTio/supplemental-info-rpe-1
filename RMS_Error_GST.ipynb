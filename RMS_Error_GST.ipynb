{
 "cells": [
  {
   "cell_type": "code",
   "execution_count": 1,
   "metadata": {
    "collapsed": false
   },
   "outputs": [],
   "source": [
    "#In this notebook, we perform and analyze all GST resampling\n",
    "#in order to be able to compute RMS errors.\n",
    "#The analogous task for RPE resampling\n",
    "#is performed in RMS_Error_RPE.ipynb.\n",
    "\n",
    "#Note that this notebook takes about 4 hours\n",
    "#to run on a modern laptop.  Some users may\n",
    "#find it easier to run as a python script instead.\n",
    "#This notebook may be exported as a .py file:\n",
    "#File --> Download as --> Python (.py)."
   ]
  },
  {
   "cell_type": "code",
   "execution_count": 1,
   "metadata": {
    "collapsed": false
   },
   "outputs": [],
   "source": [
    "#Import relevant namespaces.\n",
    "import pygsti as gst\n",
    "import numpy as np\n",
    "import pygsti.construction.std1Q_XY as Std1Q_XY\n",
    "import time\n",
    "import pickle\n",
    "from pygsti.extras import rpe as RPE\n",
    "from pygsti.extras.rpe import rpeconstruction as RPEConstr\n",
    "from pygsti.extras.rpe.rpeconfig_GxPi2_GyPi2_UpDn import rpeconfig_GxPi2_GyPi2_UpDn"
   ]
  },
  {
   "cell_type": "code",
   "execution_count": 3,
   "metadata": {
    "collapsed": false
   },
   "outputs": [],
   "source": [
    "#Declare the particular RPE instance we are interested in\n",
    "#(X and Y pi/2 rotations)\n",
    "rpeconfig_inst = rpeconfig_GxPi2_GyPi2_UpDn"
   ]
  },
  {
   "cell_type": "code",
   "execution_count": 4,
   "metadata": {
    "collapsed": false
   },
   "outputs": [],
   "source": [
    "#Declare a variety of relevant parameters\n",
    "\n",
    "gs_target = Std1Q_XY.gs_target\n",
    "gs_target.set_all_parameterizations('TP')\n",
    "maxLengths_1024 = [0,1,2,4,8,16,32,64,128,256,512,1024]\n",
    "fiducials = Std1Q_XY.fiducials\n",
    "#measFiducials = Std1Q_XY.fiducials\n",
    "germs = gst.construction.gatestring_list([('Gy',),\n",
    " ('Gy','Gy','Gy','Gx',),\n",
    " ('Gy','Gx','Gy','Gx','Gx','Gx',),\n",
    " ('Gy','Gx','Gy','Gy','Gx','Gx',),\n",
    " ('Gy','Gy','Gy','Gx','Gy','Gx',),\n",
    " ('Gx',),\n",
    " ('Gx','Gy',),\n",
    " ('Gx','Gx','Gy','Gx','Gy','Gy',)])\n",
    "stringListsGST = gst.construction.make_lsgst_lists(gs_target.gates.keys(), fiducials, fiducials, germs, maxLengths_1024)\n",
    "\n",
    "stringListsRPE = RPEConstr.make_rpe_angle_string_list_dict(10,rpeconfig_inst)\n",
    "\n",
    "angleList = ['alpha','epsilon','theta']\n",
    "\n",
    "NList = [8,16,32,64,128,256]\n",
    "\n",
    "numKs = len(maxLengths_1024[1:])\n",
    "numKs_w_0 = len(maxLengths_1024)\n",
    "\n",
    "numStrsD = {}\n",
    "numStrsD['RPE'] = [6*i for i in np.arange(1,12)]\n",
    "numStrsD['GST'] = [len(stringList) for stringList in stringListsGST][1:]"
   ]
  },
  {
   "cell_type": "code",
   "execution_count": 5,
   "metadata": {
    "collapsed": false
   },
   "outputs": [
    {
     "name": "stdout",
     "output_type": "stream",
     "text": [
      "Loading RPE_dataset.txt: 100%\n",
      "Writing cache file (to speed future loads): RPE_dataset.txt.cache\n"
     ]
    }
   ],
   "source": [
    "#Load the experimental datasets.\n",
    "DSGST = gst.io.load_dataset('GST_dataset.txt',cache=True)\n",
    "DSRPE = gst.io.load_dataset('RPE_dataset.txt',cache=True)"
   ]
  },
  {
   "cell_type": "code",
   "execution_count": 6,
   "metadata": {
    "collapsed": true
   },
   "outputs": [],
   "source": [
    "#Number of times we want to resample to compute RMS error.\n",
    "trials = 100"
   ]
  },
  {
   "cell_type": "code",
   "execution_count": 7,
   "metadata": {
    "collapsed": false
   },
   "outputs": [],
   "source": [
    "#Create empty dictionaries and arrays to hold various results.\n",
    "\n",
    "gsEstD = {}\n",
    "resultsD = {}\n",
    "trueD = {}\n",
    "\n",
    "method = 'GST'\n",
    "for angle in angleList:\n",
    "    resultsArray = np.zeros([numKs,trials,3],float)\n",
    "    resultsD[(angle,method,'Exp. N=370')] = resultsArray.copy()\n",
    "\n",
    "for method in ['GST','RPE']:\n",
    "    for N in NList:\n",
    "        expKey = ('method',method,'N',N)\n",
    "        for angle in angleList:\n",
    "            resultsArray = np.zeros([numKs,trials,3],float)\n",
    "            resultsD[(angle,)+expKey] = resultsArray.copy()"
   ]
  },
  {
   "cell_type": "code",
   "execution_count": 8,
   "metadata": {
    "collapsed": true
   },
   "outputs": [],
   "source": [
    "#Define auxiliary function to resample from a dataset without replacement.\n",
    "\n",
    "def resample_dataset(input_dataset,N,seed=None):\n",
    "    if seed is not None:\n",
    "        np.random.seed(seed)\n",
    "    keys = input_dataset.keys()\n",
    "    output_dataset = gst.objects.dataset.DataSet(spamLabels=input_dataset.get_spam_labels())\n",
    "    for gate_string in keys:\n",
    "        temp_array = [1]*input_dataset[gate_string]['plus'] + [0]*input_dataset[gate_string]['minus']\n",
    "        np.random.shuffle(temp_array)\n",
    "        n = np.sum(temp_array[:N])\n",
    "        output_dataset.add_counts_1q(gate_string,n,N-n)\n",
    "    return output_dataset"
   ]
  },
  {
   "cell_type": "code",
   "execution_count": null,
   "metadata": {
    "collapsed": true
   },
   "outputs": [],
   "source": [
    "#Create and analyze 100 resampled datasets for several values of N.\n",
    "#This may take some time.\n",
    "seedCounter = 0\n",
    "method = 'GST'\n",
    "startAll = time.time()\n",
    "for N in NList:\n",
    "    expKey = ('method',method,'N',N)\n",
    "    startN = time.time()\n",
    "    for index1 in xrange(trials):\n",
    "        print \"N, index1 =\", N, index1\n",
    "        DSTemp = resample_dataset(DSGST,N,seed=seedCounter)\n",
    "        resultsD[('seedCounter-index1',index1)+expKey] = seedCounter\n",
    "        seedCounter += 1\n",
    "        GSTresultsTemp = gst.do_long_sequence_gst(DSTemp,gs_target,fiducials,fiducials,germs,maxLengths_1024,verbosity=0, gaugeOptParams = {'itemWeights': {'gates':1.0, 'spam':1e-4}})\n",
    "        for kInd, k in enumerate(maxLengths_1024[1:]):\n",
    "            gs = GSTresultsTemp.gatesets['iteration estimates'][kInd]#gst.optimize_gauge(gsEstD[baseKey][kInd],'target',targetGateset=gs_target,constrainToTP=True,spamWeight=1e-4)\n",
    "            resultsD[('alpha',)+expKey][kInd,index1,0] = RPE.extract_alpha(gs,rpeconfig_inst)\n",
    "            resultsD[('epsilon',)+expKey][kInd,index1,0] = RPE.extract_epsilon(gs,rpeconfig_inst)\n",
    "            resultsD[('theta',)+expKey][kInd,index1,0] =  RPE.extract_theta(gs,rpeconfig_inst)                \n",
    "        del GSTresultsTemp\n",
    "    endN = time.time()\n",
    "    print endN - startN\n",
    "endAll = time.time()\n",
    "print endAll - startAll"
   ]
  },
  {
   "cell_type": "code",
   "execution_count": 17,
   "metadata": {
    "collapsed": true
   },
   "outputs": [],
   "source": [
    "#Save above results, stored in the dictionary resultsD, as a pickle.\n",
    "GSTResultsFile = open('GST-Subsampling-Results-new.pkl','w')\n",
    "pickle.dump(resultsD,GSTResultsFile)\n",
    "GSTResultsFile.close()"
   ]
  }
 ],
 "metadata": {
  "kernelspec": {
   "display_name": "Python 2",
   "language": "python",
   "name": "python2"
  },
  "language_info": {
   "codemirror_mode": {
    "name": "ipython",
    "version": 2
   },
   "file_extension": ".py",
   "mimetype": "text/x-python",
   "name": "python",
   "nbconvert_exporter": "python",
   "pygments_lexer": "ipython2",
   "version": "2.7.9"
  }
 },
 "nbformat": 4,
 "nbformat_minor": 0
}

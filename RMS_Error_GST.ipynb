{
 "cells": [
  {
   "cell_type": "code",
   "execution_count": 1,
   "metadata": {
    "collapsed": false
   },
   "outputs": [],
   "source": [
    "#In this notebook, we perform and analyze all GST resampling\n",
    "#in order to be able to compute RMS errors.\n",
    "#The analogous task for RPE resampling\n",
    "#is performed in RMS_Error_RPE.ipynb.\n",
    "\n",
    "#Note that this notebook takes about 4 hours\n",
    "#to run on a modern laptop.  Some users may\n",
    "#find it easier to run as a python script instead.\n",
    "#This notebook may be exported as a .py file:\n",
    "#File --> Download as --> Python (.py)."
   ]
  },
  {
   "cell_type": "code",
   "execution_count": 2,
   "metadata": {
    "collapsed": false
   },
   "outputs": [
    {
     "name": "stdout",
     "output_type": "stream",
     "text": [
      "Fully specified RPE configuration.\n"
     ]
    }
   ],
   "source": [
    "#Import relevant namespaces.\n",
    "import pygsti as gst\n",
    "import numpy as np\n",
    "import pygsti.construction.std1Q_XY as Std1Q_XY\n",
    "import time\n",
    "import pickle\n",
    "from pygsti.tools import rpe as RPE\n",
    "from pygsti.construction import rpeconstruction as RPEConstr\n",
    "from pygsti.tools.rpeconfig_GxPi2_GyPi2_UpDn import rpeconfig_GxPi2_GyPi2_UpDn"
   ]
  },
  {
   "cell_type": "code",
   "execution_count": 3,
   "metadata": {
    "collapsed": false
   },
   "outputs": [],
   "source": [
    "#Declare the particular RPE instance we are interested in\n",
    "#(X and Y pi/2 rotations)\n",
    "rpeconfig_inst = rpeconfig_GxPi2_GyPi2_UpDn"
   ]
  },
  {
   "cell_type": "code",
   "execution_count": 4,
   "metadata": {
    "collapsed": false
   },
   "outputs": [],
   "source": [
    "#Declare a variety of relevant parameters\n",
    "\n",
    "gs_target = Std1Q_XY.gs_target\n",
    "gs_target.set_all_parameterizations('TP')\n",
    "maxLengths_1024 = [0,1,2,4,8,16,32,64,128,256,512,1024]\n",
    "fiducials = Std1Q_XY.fiducials\n",
    "#measFiducials = Std1Q_XY.fiducials\n",
    "germs = gst.construction.gatestring_list([('Gy',),\n",
    " ('Gy','Gy','Gy','Gx',),\n",
    " ('Gy','Gx','Gy','Gx','Gx','Gx',),\n",
    " ('Gy','Gx','Gy','Gy','Gx','Gx',),\n",
    " ('Gy','Gy','Gy','Gx','Gy','Gx',),\n",
    " ('Gx',),\n",
    " ('Gx','Gy',),\n",
    " ('Gx','Gx','Gy','Gx','Gy','Gy',)])\n",
    "stringListsGST = gst.construction.make_lsgst_lists(gs_target.gates.keys(), fiducials, fiducials, germs, maxLengths_1024)\n",
    "\n",
    "stringListsRPE = RPEConstr.make_rpe_angle_string_list_dict(10,rpeconfig_inst)\n",
    "\n",
    "angleList = ['alpha','epsilon','theta']\n",
    "\n",
    "NList = [8,16,32,64,128,256]\n",
    "\n",
    "numKs = len(maxLengths_1024[1:])\n",
    "numKs_w_0 = len(maxLengths_1024)\n",
    "\n",
    "numStrsD = {}\n",
    "numStrsD['RPE'] = [6*i for i in np.arange(1,12)]\n",
    "numStrsD['GST'] = [len(stringList) for stringList in stringListsGST][1:]"
   ]
  },
  {
   "cell_type": "code",
   "execution_count": 5,
   "metadata": {
    "collapsed": false
   },
   "outputs": [
    {
     "name": "stdout",
     "output_type": "stream",
     "text": [
      "Loading RPE_dataset.txt: 100%\n",
      "Writing cache file (to speed future loads): RPE_dataset.txt.cache\n"
     ]
    }
   ],
   "source": [
    "#Load the experimental datasets.\n",
    "DSGST = gst.io.load_dataset('GST_dataset.txt',cache=True)\n",
    "DSRPE = gst.io.load_dataset('RPE_dataset.txt',cache=True)"
   ]
  },
  {
   "cell_type": "code",
   "execution_count": 6,
   "metadata": {
    "collapsed": true
   },
   "outputs": [],
   "source": [
    "#Number of times we want to resample to compute RMS error.\n",
    "trials = 100"
   ]
  },
  {
   "cell_type": "code",
   "execution_count": 7,
   "metadata": {
    "collapsed": false
   },
   "outputs": [],
   "source": [
    "#Create empty dictionaries and arrays to hold various results.\n",
    "\n",
    "gsEstD = {}\n",
    "resultsD = {}\n",
    "trueD = {}\n",
    "\n",
    "method = 'GST'\n",
    "for angle in angleList:\n",
    "    resultsArray = np.zeros([numKs,trials,3],float)\n",
    "    resultsD[(angle,method,'Exp. N=370')] = resultsArray.copy()\n",
    "\n",
    "for method in ['GST','RPE']:\n",
    "    for N in NList:\n",
    "        expKey = ('method',method,'N',N)\n",
    "        for angle in angleList:\n",
    "            resultsArray = np.zeros([numKs,trials,3],float)\n",
    "            resultsD[(angle,)+expKey] = resultsArray.copy()"
   ]
  },
  {
   "cell_type": "code",
   "execution_count": 8,
   "metadata": {
    "collapsed": true
   },
   "outputs": [],
   "source": [
    "#Define auxiliary function to resample from a dataset without replacement.\n",
    "\n",
    "def resample_dataset(input_dataset,N,seed=None):\n",
    "    if seed is not None:\n",
    "        np.random.seed(seed)\n",
    "    keys = input_dataset.keys()\n",
    "    output_dataset = gst.objects.dataset.DataSet(spamLabels=input_dataset.get_spam_labels())\n",
    "    for gate_string in keys:\n",
    "        temp_array = [1]*input_dataset[gate_string]['plus'] + [0]*input_dataset[gate_string]['minus']\n",
    "        np.random.shuffle(temp_array)\n",
    "        n = np.sum(temp_array[:N])\n",
    "        output_dataset.add_counts_1q(gate_string,n,N-n)\n",
    "    return output_dataset"
   ]
  },
  {
   "cell_type": "code",
   "execution_count": 9,
   "metadata": {
    "collapsed": false,
    "scrolled": true
   },
   "outputs": [
    {
     "name": "stdout",
     "output_type": "stream",
     "text": [
      "N, index1 = 8 0\n",
      "DEBUG: optimized gate to min frobenius distance 0.0275849\n",
      "DEBUG: optimized gate to min frobenius distance 0.0262204\n",
      "DEBUG: optimized vector to min frobenius distance 0.000650511\n"
     ]
    },
    {
     "name": "stderr",
     "output_type": "stream",
     "text": [
      "/Users/kmrudin/Library/Enthought/Canopy_64bit/User/lib/python2.7/site-packages/IPython/kernel/__main__.py:9: VisibleDeprecationWarning: using a non-integer number instead of an integer will result in an error in the future\n"
     ]
    },
    {
     "ename": "KeyboardInterrupt",
     "evalue": "",
     "output_type": "error",
     "traceback": [
      "\u001b[0;31m---------------------------------------------------------------------------\u001b[0m",
      "\u001b[0;31mKeyboardInterrupt\u001b[0m                         Traceback (most recent call last)",
      "\u001b[0;32m<ipython-input-9-855598f7f5f9>\u001b[0m in \u001b[0;36m<module>\u001b[0;34m()\u001b[0m\n\u001b[1;32m     12\u001b[0m         \u001b[0mresultsD\u001b[0m\u001b[0;34m[\u001b[0m\u001b[0;34m(\u001b[0m\u001b[0;34m'seedCounter-index1'\u001b[0m\u001b[0;34m,\u001b[0m\u001b[0mindex1\u001b[0m\u001b[0;34m)\u001b[0m\u001b[0;34m+\u001b[0m\u001b[0mexpKey\u001b[0m\u001b[0;34m]\u001b[0m \u001b[0;34m=\u001b[0m \u001b[0mseedCounter\u001b[0m\u001b[0;34m\u001b[0m\u001b[0m\n\u001b[1;32m     13\u001b[0m         \u001b[0mseedCounter\u001b[0m \u001b[0;34m+=\u001b[0m \u001b[0;36m1\u001b[0m\u001b[0;34m\u001b[0m\u001b[0m\n\u001b[0;32m---> 14\u001b[0;31m         \u001b[0mGSTresultsTemp\u001b[0m \u001b[0;34m=\u001b[0m \u001b[0mgst\u001b[0m\u001b[0;34m.\u001b[0m\u001b[0mdo_long_sequence_gst\u001b[0m\u001b[0;34m(\u001b[0m\u001b[0mDSTemp\u001b[0m\u001b[0;34m,\u001b[0m\u001b[0mgs_target\u001b[0m\u001b[0;34m,\u001b[0m\u001b[0mfiducials\u001b[0m\u001b[0;34m,\u001b[0m\u001b[0mfiducials\u001b[0m\u001b[0;34m,\u001b[0m\u001b[0mgerms\u001b[0m\u001b[0;34m,\u001b[0m\u001b[0mmaxLengths_1024\u001b[0m\u001b[0;34m,\u001b[0m\u001b[0mverbosity\u001b[0m\u001b[0;34m=\u001b[0m\u001b[0;36m0\u001b[0m\u001b[0;34m,\u001b[0m \u001b[0mgaugeOptParams\u001b[0m \u001b[0;34m=\u001b[0m \u001b[0;34m{\u001b[0m\u001b[0;34m'itemWeights'\u001b[0m\u001b[0;34m:\u001b[0m \u001b[0;34m{\u001b[0m\u001b[0;34m'gates'\u001b[0m\u001b[0;34m:\u001b[0m\u001b[0;36m1.0\u001b[0m\u001b[0;34m,\u001b[0m \u001b[0;34m'spam'\u001b[0m\u001b[0;34m:\u001b[0m\u001b[0;36m1e-4\u001b[0m\u001b[0;34m}\u001b[0m\u001b[0;34m}\u001b[0m\u001b[0;34m)\u001b[0m\u001b[0;34m\u001b[0m\u001b[0m\n\u001b[0m\u001b[1;32m     15\u001b[0m         \u001b[0;32mfor\u001b[0m \u001b[0mkInd\u001b[0m\u001b[0;34m,\u001b[0m \u001b[0mk\u001b[0m \u001b[0;32min\u001b[0m \u001b[0menumerate\u001b[0m\u001b[0;34m(\u001b[0m\u001b[0mmaxLengths_1024\u001b[0m\u001b[0;34m[\u001b[0m\u001b[0;36m1\u001b[0m\u001b[0;34m:\u001b[0m\u001b[0;34m]\u001b[0m\u001b[0;34m)\u001b[0m\u001b[0;34m:\u001b[0m\u001b[0;34m\u001b[0m\u001b[0m\n\u001b[1;32m     16\u001b[0m             \u001b[0mgs\u001b[0m \u001b[0;34m=\u001b[0m \u001b[0mGSTresultsTemp\u001b[0m\u001b[0;34m.\u001b[0m\u001b[0mgatesets\u001b[0m\u001b[0;34m[\u001b[0m\u001b[0;34m'iteration estimates'\u001b[0m\u001b[0;34m]\u001b[0m\u001b[0;34m[\u001b[0m\u001b[0mkInd\u001b[0m\u001b[0;34m]\u001b[0m\u001b[0;31m#gst.optimize_gauge(gsEstD[baseKey][kInd],'target',targetGateset=gs_target,constrainToTP=True,spamWeight=1e-4)\u001b[0m\u001b[0;34m\u001b[0m\u001b[0m\n",
      "\u001b[0;32m/Users/kmrudin/pyGSTi/packages/pygsti/drivers/longsequence.py\u001b[0m in \u001b[0;36mdo_long_sequence_gst\u001b[0;34m(dataFilenameOrSet, targetGateFilenameOrSet, prepStrsListOrFilename, effectStrsListOrFilename, germsListOrFilename, maxLengths, gaugeOptParams, objective, fidPairs, lsgstLists, advancedOptions, comm, memLimit, verbosity)\u001b[0m\n\u001b[1;32m    339\u001b[0m           distributeMethod=advancedOptions.get(\n\u001b[1;32m    340\u001b[0m                 'distributeMethod',\"deriv\"),\n\u001b[0;32m--> 341\u001b[0;31m           check=advancedOptions.get('check',False))\n\u001b[0m\u001b[1;32m    342\u001b[0m     \u001b[0;32melse\u001b[0m\u001b[0;34m:\u001b[0m\u001b[0;34m\u001b[0m\u001b[0m\n\u001b[1;32m    343\u001b[0m         \u001b[0;32mraise\u001b[0m \u001b[0mValueError\u001b[0m\u001b[0;34m(\u001b[0m\u001b[0;34m\"Invalid longSequenceObjective: %s\"\u001b[0m \u001b[0;34m%\u001b[0m \u001b[0mobjective\u001b[0m\u001b[0;34m)\u001b[0m\u001b[0;34m\u001b[0m\u001b[0m\n",
      "\u001b[0;32m/Users/kmrudin/pyGSTi/packages/pygsti/algorithms/core.pyc\u001b[0m in \u001b[0;36mdo_iterative_mlgst\u001b[0;34m(dataset, startGateset, gateStringSetsToUseInEstimation, maxiter, maxfev, tol, cptp_penalty_factor, minProbClip, probClipInterval, radius, poissonPicture, returnMaxLogL, returnAll, gateStringSetLabels, useFreqWeightedChiSq, verbosity, check, memLimit, profiler, comm, distributeMethod)\u001b[0m\n\u001b[1;32m   2665\u001b[0m                                       \u001b[0museFreqWeightedChiSq\u001b[0m\u001b[0;34m,\u001b[0m \u001b[0;36m0\u001b[0m\u001b[0;34m,\u001b[0m\u001b[0mprinter\u001b[0m\u001b[0;34m-\u001b[0m\u001b[0;36m1\u001b[0m\u001b[0;34m,\u001b[0m \u001b[0mcheck\u001b[0m\u001b[0;34m,\u001b[0m\u001b[0;34m\u001b[0m\u001b[0m\n\u001b[1;32m   2666\u001b[0m                                       \u001b[0mcheck\u001b[0m\u001b[0;34m,\u001b[0m \u001b[0mNone\u001b[0m\u001b[0;34m,\u001b[0m \u001b[0mNone\u001b[0m\u001b[0;34m,\u001b[0m \u001b[0mmemLimit\u001b[0m\u001b[0;34m,\u001b[0m \u001b[0mcomm\u001b[0m\u001b[0;34m,\u001b[0m\u001b[0;34m\u001b[0m\u001b[0m\n\u001b[0;32m-> 2667\u001b[0;31m                                       distributeMethod, profiler)\n\u001b[0m\u001b[1;32m   2668\u001b[0m                                        \u001b[0;31m# Note maxLogL is really chi2 number here\u001b[0m\u001b[0;34m\u001b[0m\u001b[0;34m\u001b[0m\u001b[0m\n\u001b[1;32m   2669\u001b[0m \u001b[0;34m\u001b[0m\u001b[0m\n",
      "\u001b[0;32m/Users/kmrudin/pyGSTi/packages/pygsti/algorithms/core.pyc\u001b[0m in \u001b[0;36mdo_mc2gst\u001b[0;34m(dataset, startGateset, gateStringsToUse, maxiter, maxfev, tol, cptp_penalty_factor, minProbClipForWeighting, probClipInterval, useFreqWeightedChiSq, regularizeFactor, verbosity, check, check_jacobian, gatestringWeights, gateLabelAliases, memLimit, comm, distributeMethod, profiler)\u001b[0m\n\u001b[1;32m   1355\u001b[0m             \u001b[0mjac_norm_tol\u001b[0m\u001b[0;34m=\u001b[0m\u001b[0mtol\u001b[0m\u001b[0;34m,\u001b[0m \u001b[0mrel_ftol\u001b[0m\u001b[0;34m=\u001b[0m\u001b[0mtol\u001b[0m\u001b[0;34m,\u001b[0m \u001b[0mrel_xtol\u001b[0m\u001b[0;34m=\u001b[0m\u001b[0mtol\u001b[0m\u001b[0;34m,\u001b[0m\u001b[0;34m\u001b[0m\u001b[0m\n\u001b[1;32m   1356\u001b[0m             \u001b[0mmax_iter\u001b[0m\u001b[0;34m=\u001b[0m\u001b[0mmaxiter\u001b[0m\u001b[0;34m,\u001b[0m \u001b[0mcomm\u001b[0m\u001b[0;34m=\u001b[0m\u001b[0mcomm\u001b[0m\u001b[0;34m,\u001b[0m\u001b[0;34m\u001b[0m\u001b[0m\n\u001b[0;32m-> 1357\u001b[0;31m             verbosity=printer.verbosity-1, profiler=profiler)\n\u001b[0m\u001b[1;32m   1358\u001b[0m         \u001b[0mprinter\u001b[0m\u001b[0;34m.\u001b[0m\u001b[0mlog\u001b[0m\u001b[0;34m(\u001b[0m\u001b[0;34m\"Least squares message = %s\"\u001b[0m \u001b[0;34m%\u001b[0m \u001b[0mmsg\u001b[0m\u001b[0;34m,\u001b[0m\u001b[0;36m2\u001b[0m\u001b[0;34m)\u001b[0m\u001b[0;34m\u001b[0m\u001b[0m\n\u001b[1;32m   1359\u001b[0m         \u001b[0;32massert\u001b[0m\u001b[0;34m(\u001b[0m\u001b[0mconverged\u001b[0m\u001b[0;34m)\u001b[0m\u001b[0;34m\u001b[0m\u001b[0m\n",
      "\u001b[0;32m/Users/kmrudin/pyGSTi/packages/pygsti/optimize/customlm.pyc\u001b[0m in \u001b[0;36mcustom_leastsq\u001b[0;34m(obj_fn, jac_fn, x0, f_norm2_tol, jac_norm_tol, rel_ftol, rel_xtol, max_iter, comm, verbosity, profiler)\u001b[0m\n\u001b[1;32m     55\u001b[0m \u001b[0;34m\u001b[0m\u001b[0m\n\u001b[1;32m     56\u001b[0m         \u001b[0;32mif\u001b[0m \u001b[0mprofiler\u001b[0m\u001b[0;34m:\u001b[0m \u001b[0mprofiler\u001b[0m\u001b[0;34m.\u001b[0m\u001b[0mmem_check\u001b[0m\u001b[0;34m(\u001b[0m\u001b[0;34m\"custom_leastsq: begin outer iter\"\u001b[0m\u001b[0;34m)\u001b[0m\u001b[0;34m\u001b[0m\u001b[0m\n\u001b[0;32m---> 57\u001b[0;31m         \u001b[0mJac\u001b[0m \u001b[0;34m=\u001b[0m \u001b[0mjac_fn\u001b[0m\u001b[0;34m(\u001b[0m\u001b[0mx\u001b[0m\u001b[0;34m)\u001b[0m\u001b[0;34m\u001b[0m\u001b[0m\n\u001b[0m\u001b[1;32m     58\u001b[0m         if profiler: profiler.mem_check(\"custom_leastsq: after jacobian:\" \n\u001b[1;32m     59\u001b[0m                                         + \"shape=%s, GB=%.2f\" % (str(Jac.shape),\n",
      "\u001b[0;32m/Users/kmrudin/pyGSTi/packages/pygsti/algorithms/core.pyc\u001b[0m in \u001b[0;36mjacobian\u001b[0;34m(vectorGS)\u001b[0m\n\u001b[1;32m   1200\u001b[0m                                     \u001b[0mprMxToFill\u001b[0m\u001b[0;34m=\u001b[0m\u001b[0mprobs\u001b[0m\u001b[0;34m,\u001b[0m \u001b[0mclipTo\u001b[0m\u001b[0;34m=\u001b[0m\u001b[0mprobClipInterval\u001b[0m\u001b[0;34m,\u001b[0m\u001b[0;34m\u001b[0m\u001b[0m\n\u001b[1;32m   1201\u001b[0m                                     \u001b[0mcheck\u001b[0m\u001b[0;34m=\u001b[0m\u001b[0mcheck\u001b[0m\u001b[0;34m,\u001b[0m \u001b[0mcomm\u001b[0m\u001b[0;34m=\u001b[0m\u001b[0mcomm\u001b[0m\u001b[0;34m,\u001b[0m \u001b[0mwrtBlockSize\u001b[0m\u001b[0;34m=\u001b[0m\u001b[0mwrtBlkSize\u001b[0m\u001b[0;34m,\u001b[0m\u001b[0;34m\u001b[0m\u001b[0m\n\u001b[0;32m-> 1202\u001b[0;31m                                     profiler=profiler, gatherMemLimit=gthrMem)\n\u001b[0m\u001b[1;32m   1203\u001b[0m                 \u001b[0mweights\u001b[0m  \u001b[0;34m=\u001b[0m \u001b[0mget_weights\u001b[0m\u001b[0;34m(\u001b[0m \u001b[0mprobs\u001b[0m \u001b[0;34m)\u001b[0m\u001b[0;34m\u001b[0m\u001b[0m\n\u001b[1;32m   1204\u001b[0m                 \u001b[0mdprobs\u001b[0m \u001b[0;34m*=\u001b[0m \u001b[0;34m(\u001b[0m\u001b[0mweights\u001b[0m\u001b[0;34m+\u001b[0m\u001b[0;34m(\u001b[0m\u001b[0mprobs\u001b[0m\u001b[0;34m-\u001b[0m\u001b[0mf\u001b[0m\u001b[0;34m)\u001b[0m\u001b[0;34m*\u001b[0m\u001b[0mget_dweights\u001b[0m\u001b[0;34m(\u001b[0m\u001b[0mprobs\u001b[0m\u001b[0;34m,\u001b[0m \u001b[0mweights\u001b[0m \u001b[0;34m)\u001b[0m\u001b[0;34m)\u001b[0m\u001b[0;34m[\u001b[0m\u001b[0;34m:\u001b[0m\u001b[0;34m,\u001b[0m\u001b[0;34m:\u001b[0m\u001b[0;34m,\u001b[0m\u001b[0mNone\u001b[0m\u001b[0;34m]\u001b[0m\u001b[0;34m\u001b[0m\u001b[0m\n",
      "\u001b[0;32m/Users/kmrudin/pyGSTi/packages/pygsti/objects/gateset.pyc\u001b[0m in \u001b[0;36mbulk_fill_dprobs\u001b[0;34m(self, mxToFill, spam_label_rows, evalTree, prMxToFill, clipTo, check, comm, wrtBlockSize, profiler, gatherMemLimit)\u001b[0m\n\u001b[1;32m   2171\u001b[0m                                              \u001b[0mevalTree\u001b[0m\u001b[0;34m,\u001b[0m \u001b[0mprMxToFill\u001b[0m\u001b[0;34m,\u001b[0m \u001b[0mclipTo\u001b[0m\u001b[0;34m,\u001b[0m\u001b[0;34m\u001b[0m\u001b[0m\n\u001b[1;32m   2172\u001b[0m                                              \u001b[0mcheck\u001b[0m\u001b[0;34m,\u001b[0m \u001b[0mcomm\u001b[0m\u001b[0;34m,\u001b[0m \u001b[0mNone\u001b[0m\u001b[0;34m,\u001b[0m \u001b[0mwrtBlockSize\u001b[0m\u001b[0;34m,\u001b[0m\u001b[0;34m\u001b[0m\u001b[0m\n\u001b[0;32m-> 2173\u001b[0;31m                                              profiler, gatherMemLimit)\n\u001b[0m\u001b[1;32m   2174\u001b[0m \u001b[0;34m\u001b[0m\u001b[0m\n\u001b[1;32m   2175\u001b[0m \u001b[0;34m\u001b[0m\u001b[0m\n",
      "\u001b[0;32m/Users/kmrudin/pyGSTi/packages/pygsti/objects/gscalc.pyc\u001b[0m in \u001b[0;36mbulk_fill_dprobs\u001b[0;34m(self, mxToFill, spam_label_rows, evalTree, prMxToFill, clipTo, check, comm, wrtFilter, wrtBlockSize, profiler, gatherMemLimit)\u001b[0m\n\u001b[1;32m   2225\u001b[0m                 \u001b[0mgatesSlice\u001b[0m \u001b[0;34m=\u001b[0m \u001b[0mwrtSlices\u001b[0m\u001b[0;34m[\u001b[0m\u001b[0;34m'gates'\u001b[0m\u001b[0;34m]\u001b[0m \u001b[0;32mif\u001b[0m \u001b[0;34m(\u001b[0m\u001b[0mwrtSlices\u001b[0m \u001b[0;32mis\u001b[0m \u001b[0;32mnot\u001b[0m \u001b[0mNone\u001b[0m\u001b[0;34m)\u001b[0m \u001b[0;32melse\u001b[0m \u001b[0mNone\u001b[0m\u001b[0;34m\u001b[0m\u001b[0m\n\u001b[1;32m   2226\u001b[0m                 dProdCache = self._compute_dproduct_cache(evalSubTree, prodCache, scaleCache,\n\u001b[0;32m-> 2227\u001b[0;31m                                                           mySubComm, gatesSlice, profiler)\n\u001b[0m\u001b[1;32m   2228\u001b[0m                 \u001b[0mdGs\u001b[0m \u001b[0;34m=\u001b[0m \u001b[0mevalSubTree\u001b[0m\u001b[0;34m.\u001b[0m\u001b[0mfinal_view\u001b[0m\u001b[0;34m(\u001b[0m\u001b[0mdProdCache\u001b[0m\u001b[0;34m,\u001b[0m \u001b[0maxis\u001b[0m\u001b[0;34m=\u001b[0m\u001b[0;36m0\u001b[0m\u001b[0;34m)\u001b[0m\u001b[0;34m\u001b[0m\u001b[0m\n\u001b[1;32m   2229\u001b[0m                   \u001b[0;31m#( nGateStrings, nDerivCols, dim, dim )\u001b[0m\u001b[0;34m\u001b[0m\u001b[0;34m\u001b[0m\u001b[0m\n",
      "\u001b[0;32m/Users/kmrudin/pyGSTi/packages/pygsti/objects/gscalc.pyc\u001b[0m in \u001b[0;36m_compute_dproduct_cache\u001b[0;34m(self, evalTree, prodCache, scaleCache, comm, wrtSlice, profiler)\u001b[0m\n\u001b[1;32m   1110\u001b[0m \u001b[0;34m\u001b[0m\u001b[0m\n\u001b[1;32m   1111\u001b[0m             \u001b[0mscale\u001b[0m \u001b[0;34m=\u001b[0m \u001b[0mscaleCache\u001b[0m\u001b[0;34m[\u001b[0m\u001b[0mi\u001b[0m\u001b[0;34m]\u001b[0m \u001b[0;34m-\u001b[0m \u001b[0;34m(\u001b[0m\u001b[0mscaleCache\u001b[0m\u001b[0;34m[\u001b[0m\u001b[0miLeft\u001b[0m\u001b[0;34m]\u001b[0m \u001b[0;34m+\u001b[0m \u001b[0mscaleCache\u001b[0m\u001b[0;34m[\u001b[0m\u001b[0miRight\u001b[0m\u001b[0;34m]\u001b[0m\u001b[0;34m)\u001b[0m\u001b[0;34m\u001b[0m\u001b[0m\n\u001b[0;32m-> 1112\u001b[0;31m             \u001b[0;32mif\u001b[0m \u001b[0;32mnot\u001b[0m \u001b[0m_np\u001b[0m\u001b[0;34m.\u001b[0m\u001b[0misclose\u001b[0m\u001b[0;34m(\u001b[0m\u001b[0mscale\u001b[0m\u001b[0;34m,\u001b[0m\u001b[0;36m0\u001b[0m\u001b[0;34m)\u001b[0m\u001b[0;34m:\u001b[0m\u001b[0;34m\u001b[0m\u001b[0m\n\u001b[0m\u001b[1;32m   1113\u001b[0m                 \u001b[0mdProdCache\u001b[0m\u001b[0;34m[\u001b[0m\u001b[0mi\u001b[0m\u001b[0;34m]\u001b[0m \u001b[0;34m/=\u001b[0m \u001b[0m_np\u001b[0m\u001b[0;34m.\u001b[0m\u001b[0mexp\u001b[0m\u001b[0;34m(\u001b[0m\u001b[0mscale\u001b[0m\u001b[0;34m)\u001b[0m\u001b[0;34m\u001b[0m\u001b[0m\n\u001b[1;32m   1114\u001b[0m                 \u001b[0;32mif\u001b[0m \u001b[0mdProdCache\u001b[0m\u001b[0;34m[\u001b[0m\u001b[0mi\u001b[0m\u001b[0;34m]\u001b[0m\u001b[0;34m.\u001b[0m\u001b[0mmax\u001b[0m\u001b[0;34m(\u001b[0m\u001b[0;34m)\u001b[0m \u001b[0;34m<\u001b[0m \u001b[0mDSMALL\u001b[0m \u001b[0;32mand\u001b[0m \u001b[0mdProdCache\u001b[0m\u001b[0;34m[\u001b[0m\u001b[0mi\u001b[0m\u001b[0;34m]\u001b[0m\u001b[0;34m.\u001b[0m\u001b[0mmin\u001b[0m\u001b[0;34m(\u001b[0m\u001b[0;34m)\u001b[0m \u001b[0;34m>\u001b[0m \u001b[0;34m-\u001b[0m\u001b[0mDSMALL\u001b[0m\u001b[0;34m:\u001b[0m\u001b[0;34m\u001b[0m\u001b[0m\n",
      "\u001b[0;32m/Users/kmrudin/Library/Enthought/Canopy_64bit/User/lib/python2.7/site-packages/numpy/core/numeric.pyc\u001b[0m in \u001b[0;36misclose\u001b[0;34m(a, b, rtol, atol, equal_nan)\u001b[0m\n\u001b[1;32m   2451\u001b[0m     \u001b[0myfin\u001b[0m \u001b[0;34m=\u001b[0m \u001b[0misfinite\u001b[0m\u001b[0;34m(\u001b[0m\u001b[0my\u001b[0m\u001b[0;34m)\u001b[0m\u001b[0;34m\u001b[0m\u001b[0m\n\u001b[1;32m   2452\u001b[0m     \u001b[0;32mif\u001b[0m \u001b[0mall\u001b[0m\u001b[0;34m(\u001b[0m\u001b[0mxfin\u001b[0m\u001b[0;34m)\u001b[0m \u001b[0;32mand\u001b[0m \u001b[0mall\u001b[0m\u001b[0;34m(\u001b[0m\u001b[0myfin\u001b[0m\u001b[0;34m)\u001b[0m\u001b[0;34m:\u001b[0m\u001b[0;34m\u001b[0m\u001b[0m\n\u001b[0;32m-> 2453\u001b[0;31m         \u001b[0;32mreturn\u001b[0m \u001b[0mwithin_tol\u001b[0m\u001b[0;34m(\u001b[0m\u001b[0mx\u001b[0m\u001b[0;34m,\u001b[0m \u001b[0my\u001b[0m\u001b[0;34m,\u001b[0m \u001b[0matol\u001b[0m\u001b[0;34m,\u001b[0m \u001b[0mrtol\u001b[0m\u001b[0;34m)\u001b[0m\u001b[0;34m\u001b[0m\u001b[0m\n\u001b[0m\u001b[1;32m   2454\u001b[0m     \u001b[0;32melse\u001b[0m\u001b[0;34m:\u001b[0m\u001b[0;34m\u001b[0m\u001b[0m\n\u001b[1;32m   2455\u001b[0m         \u001b[0mfinite\u001b[0m \u001b[0;34m=\u001b[0m \u001b[0mxfin\u001b[0m \u001b[0;34m&\u001b[0m \u001b[0myfin\u001b[0m\u001b[0;34m\u001b[0m\u001b[0m\n",
      "\u001b[0;32m/Users/kmrudin/Library/Enthought/Canopy_64bit/User/lib/python2.7/site-packages/numpy/core/numeric.pyc\u001b[0m in \u001b[0;36mwithin_tol\u001b[0;34m(x, y, atol, rtol)\u001b[0m\n\u001b[1;32m   2435\u001b[0m         \u001b[0;32mwith\u001b[0m \u001b[0merrstate\u001b[0m\u001b[0;34m(\u001b[0m\u001b[0minvalid\u001b[0m\u001b[0;34m=\u001b[0m\u001b[0;34m'ignore'\u001b[0m\u001b[0;34m)\u001b[0m\u001b[0;34m:\u001b[0m\u001b[0;34m\u001b[0m\u001b[0m\n\u001b[1;32m   2436\u001b[0m             \u001b[0mresult\u001b[0m \u001b[0;34m=\u001b[0m \u001b[0mless_equal\u001b[0m\u001b[0;34m(\u001b[0m\u001b[0mabs\u001b[0m\u001b[0;34m(\u001b[0m\u001b[0mx\u001b[0m\u001b[0;34m-\u001b[0m\u001b[0my\u001b[0m\u001b[0;34m)\u001b[0m\u001b[0;34m,\u001b[0m \u001b[0matol\u001b[0m \u001b[0;34m+\u001b[0m \u001b[0mrtol\u001b[0m \u001b[0;34m*\u001b[0m \u001b[0mabs\u001b[0m\u001b[0;34m(\u001b[0m\u001b[0my\u001b[0m\u001b[0;34m)\u001b[0m\u001b[0;34m)\u001b[0m\u001b[0;34m\u001b[0m\u001b[0m\n\u001b[0;32m-> 2437\u001b[0;31m         \u001b[0;32mif\u001b[0m \u001b[0misscalar\u001b[0m\u001b[0;34m(\u001b[0m\u001b[0ma\u001b[0m\u001b[0;34m)\u001b[0m \u001b[0;32mand\u001b[0m \u001b[0misscalar\u001b[0m\u001b[0;34m(\u001b[0m\u001b[0mb\u001b[0m\u001b[0;34m)\u001b[0m\u001b[0;34m:\u001b[0m\u001b[0;34m\u001b[0m\u001b[0m\n\u001b[0m\u001b[1;32m   2438\u001b[0m             \u001b[0mresult\u001b[0m \u001b[0;34m=\u001b[0m \u001b[0mbool\u001b[0m\u001b[0;34m(\u001b[0m\u001b[0mresult\u001b[0m\u001b[0;34m)\u001b[0m\u001b[0;34m\u001b[0m\u001b[0m\n\u001b[1;32m   2439\u001b[0m         \u001b[0;32mreturn\u001b[0m \u001b[0mresult\u001b[0m\u001b[0;34m\u001b[0m\u001b[0m\n",
      "\u001b[0;32m/Users/kmrudin/Library/Enthought/Canopy_64bit/User/lib/python2.7/site-packages/numpy/core/numeric.pyc\u001b[0m in \u001b[0;36misscalar\u001b[0;34m(num)\u001b[0m\n\u001b[1;32m   2086\u001b[0m \u001b[0;34m\u001b[0m\u001b[0m\n\u001b[1;32m   2087\u001b[0m     \"\"\"\n\u001b[0;32m-> 2088\u001b[0;31m     \u001b[0;32mif\u001b[0m \u001b[0misinstance\u001b[0m\u001b[0;34m(\u001b[0m\u001b[0mnum\u001b[0m\u001b[0;34m,\u001b[0m \u001b[0mgeneric\u001b[0m\u001b[0;34m)\u001b[0m\u001b[0;34m:\u001b[0m\u001b[0;34m\u001b[0m\u001b[0m\n\u001b[0m\u001b[1;32m   2089\u001b[0m         \u001b[0;32mreturn\u001b[0m \u001b[0mTrue\u001b[0m\u001b[0;34m\u001b[0m\u001b[0m\n\u001b[1;32m   2090\u001b[0m     \u001b[0;32melse\u001b[0m\u001b[0;34m:\u001b[0m\u001b[0;34m\u001b[0m\u001b[0m\n",
      "\u001b[0;31mKeyboardInterrupt\u001b[0m: "
     ]
    }
   ],
   "source": [
    "#Create and analyze 100 resampled datasets for several values of N.\n",
    "#This should run in less than a minute.\n",
    "seedCounter = 0\n",
    "method = 'GST'\n",
    "startAll = time.time()\n",
    "for N in NList:\n",
    "    expKey = ('method',method,'N',N)\n",
    "    startN = time.time()\n",
    "    for index1 in xrange(trials):\n",
    "        print \"N, index1 =\", N, index1\n",
    "        DSTemp = resample_dataset(DSGST,N,seed=seedCounter)\n",
    "        resultsD[('seedCounter-index1',index1)+expKey] = seedCounter\n",
    "        seedCounter += 1\n",
    "        GSTresultsTemp = gst.do_long_sequence_gst(DSTemp,gs_target,fiducials,fiducials,germs,maxLengths_1024,verbosity=0, gaugeOptParams = {'itemWeights': {'gates':1.0, 'spam':1e-4}})\n",
    "        for kInd, k in enumerate(maxLengths_1024[1:]):\n",
    "            gs = GSTresultsTemp.gatesets['iteration estimates'][kInd]#gst.optimize_gauge(gsEstD[baseKey][kInd],'target',targetGateset=gs_target,constrainToTP=True,spamWeight=1e-4)\n",
    "            resultsD[('alpha',)+expKey][kInd,index1,0] = RPE.extract_alpha(gs,rpeconfig_inst)\n",
    "            resultsD[('epsilon',)+expKey][kInd,index1,0] = RPE.extract_epsilon(gs,rpeconfig_inst)\n",
    "            resultsD[('theta',)+expKey][kInd,index1,0] =  RPE.extract_theta(gs,rpeconfig_inst)                \n",
    "        del GSTresultsTemp\n",
    "    endN = time.time()\n",
    "    print endN - startN\n",
    "endAll = time.time()\n",
    "print endAll - startAll"
   ]
  },
  {
   "cell_type": "code",
   "execution_count": 17,
   "metadata": {
    "collapsed": true
   },
   "outputs": [],
   "source": [
    "#Save above results, stored in the dictionary resultsD, as a pickle.\n",
    "GSTResultsFile = open('GST-Subsampling-Results-new.pkl','w')\n",
    "pickle.dump(resultsD,GSTResultsFile)\n",
    "GSTResultsFile.close()"
   ]
  }
 ],
 "metadata": {
  "kernelspec": {
   "display_name": "Python 2",
   "language": "python",
   "name": "python2"
  },
  "language_info": {
   "codemirror_mode": {
    "name": "ipython",
    "version": 2
   },
   "file_extension": ".py",
   "mimetype": "text/x-python",
   "name": "python",
   "nbconvert_exporter": "python",
   "pygments_lexer": "ipython2",
   "version": "2.7.9"
  }
 },
 "nbformat": 4,
 "nbformat_minor": 0
}

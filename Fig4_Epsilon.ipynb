{
 "cells": [
  {
   "cell_type": "code",
   "execution_count": null,
   "metadata": {
    "collapsed": true
   },
   "outputs": [],
   "source": [
    "#In this notebook we produce an analog of Figure 4, for epsilon. (This plot is not given in the paper.)"
   ]
  },
  {
   "cell_type": "code",
   "execution_count": null,
   "metadata": {
    "collapsed": true
   },
   "outputs": [],
   "source": [
    "#Import relevant namespaces.\n",
    "import pygsti as gst\n",
    "import numpy as np\n",
    "import pygsti.construction.std1Q_XY as Std1Q_XY\n",
    "import pickle\n",
    "%matplotlib inline\n",
    "import matplotlib.pyplot as plt\n",
    "from pygsti.tools import rpe as RPE\n",
    "from pygsti.tools.rpeconfig_GxPi2_GyPi2_UpDn import rpeconfig_GxPi2_GyPi2_UpDn\n",
    "from __future__ import print_function"
   ]
  },
  {
   "cell_type": "code",
   "execution_count": 2,
   "metadata": {
    "collapsed": true
   },
   "outputs": [],
   "source": [
    "#Declare the particular RPE instance we are interested in\n",
    "#(X and Y pi/2 rotations)\n",
    "rpeconfig_inst = rpeconfig_GxPi2_GyPi2_UpDn"
   ]
  },
  {
   "cell_type": "code",
   "execution_count": 3,
   "metadata": {
    "collapsed": true
   },
   "outputs": [],
   "source": [
    "#Declare a variety of relevant parameters\n",
    "\n",
    "angleList = ['alpha','epsilon','theta']\n",
    "NList = [8,16,32,64,128,256]\n",
    "maxLengths_1024 = [0,1,2,4,8,16,32,64,128,256,512,1024]\n",
    "numKs_w_0 = len(maxLengths_1024)\n",
    "\n",
    "gs_target = Std1Q_XY.gs_target\n",
    "gs_target.set_all_parameterizations('TP')\n",
    "maxLengths_1024 = [0,1,2,4,8,16,32,64,128,256,512,1024]\n",
    "fiducials = Std1Q_XY.fiducials\n",
    "germs = gst.construction.gatestring_list([('Gy',),\n",
    " ('Gy','Gy','Gy','Gx',),\n",
    " ('Gy','Gx','Gy','Gx','Gx','Gx',),\n",
    " ('Gy','Gx','Gy','Gy','Gx','Gx',),\n",
    " ('Gy','Gy','Gy','Gx','Gy','Gx',),\n",
    " ('Gx',),\n",
    " ('Gx','Gy',),\n",
    " ('Gx','Gx','Gy','Gx','Gy','Gy',)])\n",
    "stringListsGST = gst.construction.make_lsgst_lists(gs_target.gates.keys(), fiducials, fiducials, germs, maxLengths_1024)\n",
    "\n",
    "numStrsD = {}\n",
    "numStrsD['RPE'] = [6*i for i in np.arange(1,12)]\n",
    "numStrsD['GST'] = [len(stringList) for stringList in stringListsGST][1:]\n",
    "\n",
    "numGSTStrs_1024 = numStrsD['GST'][-1]\n",
    "numRPEStrs_1024 = numStrsD['RPE'][-1]/3\n",
    "numGSTClicks_1024 = [numGSTStrs_1024*i for i in [8,16,32,64,128,256]]\n",
    "numRPEClicks_1024 = [numRPEStrs_1024*i for i in [8,16,32,64,128,256]]"
   ]
  },
  {
   "cell_type": "code",
   "execution_count": 4,
   "metadata": {
    "collapsed": false
   },
   "outputs": [
    {
     "name": "stdout",
     "output_type": "stream",
     "text": [
      "Loading from cache file: GST_dataset.txt.cache\n",
      "Loading from cache file: RPE_dataset.txt.cache\n"
     ]
    }
   ],
   "source": [
    "#Load the experimental datasets.\n",
    "DSGST = gst.io.load_dataset('GST_dataset.txt',cache=True)\n",
    "DSRPE = gst.io.load_dataset('RPE_dataset.txt',cache=True)"
   ]
  },
  {
   "cell_type": "code",
   "execution_count": 5,
   "metadata": {
    "collapsed": true
   },
   "outputs": [],
   "source": [
    "#Load subsampled GST and RPE results files.\n",
    "GSTResultsFile = open('GST-Subsampling-Results.pkl','r')\n",
    "resultsGSTD = pickle.load(GSTResultsFile)\n",
    "GSTResultsFile.close()\n",
    "\n",
    "RPEResultsFile = open('RPE-Subsampling-Results.pkl','r')\n",
    "resultsD = pickle.load(RPEResultsFile)\n",
    "RPEResultsFile.close()"
   ]
  },
  {
   "cell_type": "code",
   "execution_count": 6,
   "metadata": {
    "collapsed": true
   },
   "outputs": [],
   "source": [
    "#Create empty dictionaries to hold various results.\n",
    "\n",
    "gsEstD = {}\n",
    "trueD = {}"
   ]
  },
  {
   "cell_type": "code",
   "execution_count": 7,
   "metadata": {
    "collapsed": false
   },
   "outputs": [
    {
     "name": "stdout",
     "output_type": "stream",
     "text": [
      "DEBUG: optimized gate to min frobenius distance 0.000234144\n",
      "DEBUG: optimized gate to min frobenius distance 0.000195541\n",
      "DEBUG: optimized vector to min frobenius distance 0.000107997\n"
     ]
    }
   ],
   "source": [
    "#Run GST on full experimental dataset; record final angle estimates.\n",
    "#This should run in a minute or less.\n",
    "method = 'GST'\n",
    "\n",
    "baseKey =  ('Exp. N=370',)\n",
    "\n",
    "DSTemp = DSGST\n",
    "\n",
    "tempResultsD = {}\n",
    "\n",
    "resultsGST = gst.do_long_sequence_gst(DSTemp,gs_target,fiducials,fiducials,germs,maxLengths_1024,verbosity=0, gaugeOptParams = {'itemWeights': {'gates':1.0, 'spam':1e-4}})\n",
    "\n",
    "gsEstD[baseKey] = resultsGST.gatesets\n",
    "\n",
    "alphaKey = ('alpha','GST')+baseKey\n",
    "epsilonKey = ('epsilon','GST')+baseKey\n",
    "thetaKey = ('theta','GST')+baseKey\n",
    "\n",
    "resultsArray = np.zeros([numKs_w_0,1,3],float)\n",
    "\n",
    "for angle in angleList:\n",
    "    key = (angle,'GST')+baseKey\n",
    "    tempResultsD[key] = resultsArray.copy()\n",
    "\n",
    "for kInd, k in enumerate(maxLengths_1024):\n",
    "    gs = gsEstD[baseKey]['iteration estimates'][kInd]#gst.optimize_gauge(gsEstD[baseKey][kInd],'target',targetGateset=gs_target,constrainToTP=True,spamWeight=1e-4)\n",
    "    tempResultsD[alphaKey][kInd,0,0] = RPE.extract_alpha(gs,rpeconfig_inst)\n",
    "    tempResultsD[epsilonKey][kInd,0,0] = RPE.extract_epsilon(gs,rpeconfig_inst)\n",
    "    tempResultsD[thetaKey][kInd,0,0] = RPE.extract_theta(gs,rpeconfig_inst)\n",
    "    \n",
    "for angle in angleList:\n",
    "    trueD[angle] = tempResultsD[(angle,'GST',)+baseKey][-1,0,0]"
   ]
  },
  {
   "cell_type": "code",
   "execution_count": 8,
   "metadata": {
    "collapsed": true
   },
   "outputs": [],
   "source": [
    "#Define auxiliary functions, taken from PRA 92, 062315.\n",
    "\n",
    "#Equation 5.16 from PRA 92, 062315; we have relabeled M_j as N to be consistent with our notation.\n",
    "def pmax_516(N,delta):\n",
    "    return np.min([1,\n",
    "           (1-.5*(1-np.sqrt(8)*delta)**2)**N / \n",
    "           (np.sqrt(2 * np.pi)*(1-np.sqrt(8)*delta)*np.sqrt(N))])\n",
    "\n",
    "#Equations 5.7 and 5.8 from PRA 92, 062315.\n",
    "def xi(h):\n",
    "    return 2*np.pi/2**h\n",
    "\n",
    "def xi_bar(K):\n",
    "    return 2*np.pi/2**(K+1)\n",
    "\n",
    "#Equation 5.9 from PRA 92, 062315.\n",
    "def RMSE(K,N,delta):\n",
    "    return np.sqrt(\n",
    "        (1-pmax_516(N,delta))*xi_bar(K)**2+np.sum(xi(j)*pmax_516(N,delta) for j in xrange(1,K+1)))"
   ]
  },
  {
   "cell_type": "code",
   "execution_count": 9,
   "metadata": {
    "collapsed": true
   },
   "outputs": [],
   "source": [
    "#Compute RMS error values.\n",
    "\n",
    "angle='epsilon'\n",
    "RMSdataD = {}\n",
    "for N in [8,16,32,64,128,256]:\n",
    "    method = 'GST'\n",
    "    expKey = ('method',method,'N',N)\n",
    "    RMSdataD[method,N] = np.sqrt(np.mean(np.abs(trueD[angle] - resultsGSTD[(angle,)+expKey][:,:,0])**2,axis=1))\n",
    "    method = 'RPE'\n",
    "    expKey = ('method',method,'N',N)\n",
    "    RMSdataD[method,N] = np.sqrt(np.mean(resultsD[(angle,)+expKey][:,:,0]**2,axis=1))"
   ]
  },
  {
   "cell_type": "code",
   "execution_count": 10,
   "metadata": {
    "collapsed": false
   },
   "outputs": [
    {
     "data": {
      "text/plain": [
       "<matplotlib.text.Text at 0x10966d7d0>"
      ]
     },
     "execution_count": 10,
     "metadata": {},
     "output_type": "execute_result"
    },
    {
     "data": {
      "image/png": "[encoded data removed]",
      "text/plain": [
       "<matplotlib.figure.Figure at 0x10a595b10>"
      ]
     },
     "metadata": {},
     "output_type": "display_data"
    }
   ],
   "source": [
    "#Plot Figure 4.\n",
    "method = 'GST'\n",
    "plt.plot(numGSTClicks_1024,[RMSdataD[method,N][-1] for N in [8,16,32,64,128,256]],'o',label=method)\n",
    "\n",
    "method = 'RPE'\n",
    "plt.plot(numRPEClicks_1024,[RMSdataD[method,N][-1] for N in [8,16,32,64,128,256]],'o',label=method)\n",
    "\n",
    "delta = 0.1\n",
    "plt.plot(numRPEClicks_1024,[RMSE(11,N,delta) for N in [8,16,32,64,128,256]],'o',label='RPE-analytic')\n",
    "\n",
    "delta = 0.01\n",
    "plt.plot(numRPEClicks_1024,[RMSE(11,N,delta) for N in [8,16,32,64,128,256]],'o',label='RPE-analytic')\n",
    "\n",
    "plt.axhline(np.pi/(2*1024))\n",
    "\n",
    "plt.plot(numGSTClicks_1024,0.05/np.sqrt(np.array(numGSTClicks_1024)),'--')\n",
    "plt.plot(numRPEClicks_1024,0.007/np.sqrt(np.array(numRPEClicks_1024)),'--')\n",
    "\n",
    "\n",
    "plt.yscale('log')\n",
    "plt.xscale('log')\n",
    "plt.legend()\n",
    "plt.xlabel('Total samples (S)')\n",
    "plt.ylabel('RMS Error')"
   ]
  },
  {
   "cell_type": "code",
   "execution_count": 11,
   "metadata": {
    "collapsed": false
   },
   "outputs": [
    {
     "name": "stdout",
     "output_type": "stream",
     "text": [
      "RPE clicks\t RPE RMSE-exp\t\t RPE RMSE-analytical-delta=0.1\t RPE RMSE-analytical-delta=0.01\t\n",
      "176 \t\t 0.000369397304584 \t 0.338416131323 \t\t\t 0.0741557010555\n",
      "352 \t\t 0.000293763407584 \t 0.0866651725016 \t\t\t 0.00507837371573\n",
      "704 \t\t 0.000185592920624 \t 0.00692802640693 \t\t\t 0.00153417718035\n",
      "1408 \t\t 0.000149740842686 \t 0.00153475813111 \t\t\t 0.00153398078789\n",
      "2816 \t\t 0.000127603182098 \t 0.00153398078789 \t\t\t 0.00153398078789\n",
      "5632 \t\t 0.000105900483105 \t 0.00153398078789 \t\t\t 0.00153398078789\n"
     ]
    }
   ],
   "source": [
    "#Print RPE portion of data for Figure 4.\n",
    "NList = [8,16,32,64,128,256]\n",
    "method = 'RPE'\n",
    "print(\"RPE clicks\\t\", 'RPE RMSE-exp\\t\\t', 'RPE RMSE-analytical-delta=0.1\\t', 'RPE RMSE-analytical-delta=0.01\\t')\n",
    "for i, clicks in enumerate(numRPEClicks_1024):\n",
    "    print(clicks, '\\t\\t', RMSdataD[method,NList[i]][-1], '\\t', RMSE(11,NList[i],0.1), '\\t\\t\\t', RMSE(11,NList[i],0.01))"
   ]
  },
  {
   "cell_type": "code",
   "execution_count": 12,
   "metadata": {
    "collapsed": false
   },
   "outputs": [
    {
     "name": "stdout",
     "output_type": "stream",
     "text": [
      "GST clicks\t GST RMSE\n",
      "18776 \t\t 0.000202326049012\n",
      "37552 \t\t 0.00015360835939\n",
      "75104 \t\t 9.77964011474e-05\n",
      "150208 \t\t 7.79587068537e-05\n",
      "300416 \t\t 5.93605037803e-05\n",
      "600832 \t\t 4.14513026092e-05\n"
     ]
    }
   ],
   "source": [
    "#Print GST portion of data for Figure 4.\n",
    "NList = [8,16,32,64,128,256]\n",
    "method = 'GST'\n",
    "print(\"GST clicks\\t\", 'GST RMSE')\n",
    "for i, clicks in enumerate(numGSTClicks_1024):\n",
    "    print(clicks, '\\t\\t', RMSdataD[method,NList[i]][-1])"
   ]
  },
  {
   "cell_type": "code",
   "execution_count": null,
   "metadata": {
    "collapsed": true
   },
   "outputs": [],
   "source": []
  }
 ],
 "metadata": {
  "kernelspec": {
   "display_name": "Python 2",
   "language": "python",
   "name": "python2"
  },
  "language_info": {
   "codemirror_mode": {
    "name": "ipython",
    "version": 2
   },
   "file_extension": ".py",
   "mimetype": "text/x-python",
   "name": "python",
   "nbconvert_exporter": "python",
   "pygments_lexer": "ipython2",
   "version": "2.7.9"
  }
 },
 "nbformat": 4,
 "nbformat_minor": 0
}
